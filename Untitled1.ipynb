{
 "cells": [
  {
   "cell_type": "code",
   "execution_count": 69,
   "id": "56c3a247-1b58-4513-8cac-67c950ee411c",
   "metadata": {},
   "outputs": [],
   "source": [
    "import re"
   ]
  },
  {
   "cell_type": "code",
   "execution_count": 70,
   "id": "04f925c3-063b-4e1e-9f97-5693b58a8664",
   "metadata": {},
   "outputs": [],
   "source": [
    "from datetime import datetime"
   ]
  },
  {
   "cell_type": "code",
   "execution_count": 71,
   "id": "8e8a888a-d338-42d3-af02-80fc075f66d7",
   "metadata": {
    "tags": []
   },
   "outputs": [
    {
     "name": "stdout",
     "output_type": "stream",
     "text": [
      "[datetime.datetime(2023, 10, 4, 20, 4, 30), 26.23, '3', 0]\n"
     ]
    }
   ],
   "source": [
    "import re\n",
    "\n",
    "# 입력 파일 경로 설정\n",
    "input_file_path = './sensor_value.txt'  # 입력 파일 경로에 맞게 수정\n",
    "\n",
    "# 데이터를 저장할 리스트 초기화\n",
    "data_groups = []\n",
    "\n",
    "# 현재 데이터 묶음 초기화\n",
    "current_data_group = []\n",
    "\n",
    "# 입력 파일 열기\n",
    "with open(input_file_path, 'r') as input_file:\n",
    "    current_datetime = None  # 현재 데이터 묶음의 시작 시간\n",
    "    lines_count = 0\n",
    "    for line in input_file:\n",
    "        if len(line) == 1:\n",
    "            lines_count = 0\n",
    "        else:\n",
    "            lines_count += 1\n",
    "            if lines_count == 1:\n",
    "                date_string = line.strip()\n",
    "                date_format = \"%Y-%m-%d %H:%M:%S\"\n",
    "                datetime_object = datetime.strptime(date_string, date_format)\n",
    "                current_data_group.append(datetime_object)\n",
    "            elif lines_count == 2:\n",
    "                temperature_match = line.replace(\"Temperature = \",\"\")\n",
    "                current_data_group.append(float(temperature_match.rstrip()))\n",
    "            elif lines_count == 3:\n",
    "                walk_match = line.replace(\"Walk = \",\"\")\n",
    "                current_data_group.append(walk_match.rstrip())\n",
    "            elif lines_count == 4:\n",
    "                if len(line) == 3:\n",
    "                    pass\n",
    "                else:\n",
    "                    heart_rate_match = line.replace(\"HeartRate =\",\"\")\n",
    "                    current_data_group.append(int(heart_rate_match.rstrip()))\n",
    "                    data_groups.append(current_data_group)\n",
    "                    current_data_group = []\n",
    "            elif lines_count == 5:\n",
    "                line = line.rstrip()\n",
    "                heart_rate_matc = line.split('=')[1]\n",
    "                current_data_group.append(int(heart_rate_match.rstrip()))\n",
    "                data_groups.append(current_data_group)\n",
    "                current_data_group = []\n",
    "print(data_groups[-1])"
   ]
  },
  {
   "cell_type": "code",
   "execution_count": 72,
   "id": "493b4c4a-800b-4de3-9d89-3db07f73af26",
   "metadata": {},
   "outputs": [
    {
     "data": {
      "text/plain": [
       "[]"
      ]
     },
     "execution_count": 72,
     "metadata": {},
     "output_type": "execute_result"
    }
   ],
   "source": [
    "current_data_group"
   ]
  },
  {
   "cell_type": "code",
   "execution_count": null,
   "id": "410c1777-5682-4dba-baca-41e37b34dfce",
   "metadata": {},
   "outputs": [],
   "source": []
  }
 ],
 "metadata": {
  "kernelspec": {
   "display_name": "Python 3 (ipykernel)",
   "language": "python",
   "name": "python3"
  },
  "language_info": {
   "codemirror_mode": {
    "name": "ipython",
    "version": 3
   },
   "file_extension": ".py",
   "mimetype": "text/x-python",
   "name": "python",
   "nbconvert_exporter": "python",
   "pygments_lexer": "ipython3",
   "version": "3.7.16"
  }
 },
 "nbformat": 4,
 "nbformat_minor": 5
}
